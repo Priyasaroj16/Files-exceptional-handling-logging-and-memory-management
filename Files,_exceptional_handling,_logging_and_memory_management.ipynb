{
  "nbformat": 4,
  "nbformat_minor": 0,
  "metadata": {
    "colab": {
      "provenance": []
    },
    "kernelspec": {
      "name": "python3",
      "display_name": "Python 3"
    },
    "language_info": {
      "name": "python"
    }
  },
  "cells": [
    {
      "cell_type": "markdown",
      "source": [
        "###**1.What is the difference between interpreted and compiled languages?**\n",
        "\n",
        "**Ans.-**\n",
        "##**Compiled Languages:**\n",
        "\n",
        "**Translation:** The entire program's source code is translated into machine code (or a similar intermediate language) before execution.\n",
        "\n",
        "**Execution:** The translated machine code is then executed by the computer's processor.\n",
        "\n",
        "**Process:** Compilation involves a distinct step of translating the entire program before running it.\n",
        "\n",
        "**Examples:** C, C++, Java, Fortran.\n",
        "\n",
        "\n",
        "##**Interpreted Languages:**\n",
        "\n",
        "**Translation:**\n",
        "The code is translated and executed line by line, meaning each instruction is translated and run as the interpreter reads it.\n",
        "\n",
        "**Execution:**\n",
        "The program is executed directly from the source code without a separate compilation step.\n",
        "\n",
        "**Process:**\n",
        "An interpreter is a program that reads and executes the source code directly.\n",
        "\n",
        "**Examples:**\n",
        "Python, JavaScript, Ruby, PHP, and Perl.\n",
        "\n",
        "\n",
        "###**2.What is exception handling in Python?**\n",
        "\n",
        "**Ans.-**Python Exception Handling handles errors that occur during the execution\n",
        "of a program. Exception handling allows to respond to the error, instead of\n",
        "crashing the running program. It enables you to catch and manage errors,\n",
        "making your code more robust and user-friendly.\n",
        "\n",
        "Let's look at an example:\n"
      ],
      "metadata": {
        "id": "og8jmnC2jkfv"
      }
    },
    {
      "cell_type": "code",
      "source": [
        "# Simple Exception Handling Example\n",
        "n = 10\n",
        "try:\n",
        "    res = n / 0  # This will raise a ZeroDivisionError\n",
        "\n",
        "except ZeroDivisionError:\n",
        "    print(\"Can't be divided by zero!\")"
      ],
      "metadata": {
        "colab": {
          "base_uri": "https://localhost:8080/"
        },
        "id": "cCJATwRPkzFP",
        "outputId": "3216612d-dc5b-4d59-ee1a-364ea85d7799"
      },
      "execution_count": 1,
      "outputs": [
        {
          "output_type": "stream",
          "name": "stdout",
          "text": [
            "Can't be divided by zero!\n"
          ]
        }
      ]
    },
    {
      "cell_type": "markdown",
      "source": [
        "### **3.What is the purpose of the finally block in exception handling?**\n",
        "\n",
        "**Ans.-**The purpose of the finally block in exception handling is to ensure that\n",
        "certain code, such as cleanup operations or resource releases, executes\n",
        "regardless of whether an exception is thrown or caught in the try block. It\n",
        "guarantees that critical tasks, like closing files or releasing connections,\n",
        "will be performed, even if an exception occurs and the program flow is interrupted.\n",
        "\n",
        "Here's a more detailed explanation:\n",
        "\n",
        "**Guaranteed Execution:**\n",
        "\n",
        "The finally block is always executed when the try block exits, no matter what. This means it runs whether an exception is thrown, caught, or not thrown at all.\n",
        "\n",
        "**Cleanup Tasks:**\n",
        "\n",
        "The finally block is used for tasks like releasing resources (e.g., closing files, releasing database connections), ensuring that resources are not left open or unreleased.\n",
        "\n",
        "**Robustness:**\n",
        "\n",
        "By guaranteeing the execution of cleanup code, the finally block enhances the robustness of the program, preventing resource leaks or unexpected behavior due to unreleased resources.\n",
        "\n",
        "**Control Flow:**\n",
        "\n",
        "The finally block is executed after all catch blocks have finished processing, if any, and before the program continues execution after the try...catch...finally block.\n",
        "\n",
        "**Return Statements:**\n",
        "\n",
        "If a return statement exists within the try block, the finally block will still be executed before the value is returned to the caller.\n",
        "\n",
        "###**4.What is logging in Python?**\n",
        "\n",
        "**Ans.-**Logging is a means of tracking events that happen when some software runs.\n",
        "Logging is important for software developing, debugging, and running. If you\n",
        "don’t have any logging record and your program crashes, there are very few\n",
        "chances that you detect the cause of the problem. And if you detect the cause,\n",
        "it will consume a lot of time. With logging, you can leave a trail of breadcrumbs so that if something goes wrong, we can determine the cause of\n",
        "the problem.\n",
        "\n",
        "There are a number of situations like if you are expecting an integer, you have been given a float and you can a cloud API, the service is down for maintenance, and much more. Such problems are out of control and are hard to determine.\n",
        "\n",
        "###**5.What is the significance of the __del__ method in Python?**\n",
        "\n",
        "**Ans.-**In Python, object-oriented programming provides several special methods\n",
        " that start and end with double underscores, known as \"magic methods\" or\n",
        "\"dunder methods.\" These methods enable you to customize the behavior of your\n",
        "classes in specific ways. One such method is __del__, which is also known as\n",
        "the destructor method. This article explores what the __del__ method is, how to use it effectively, and provides three practical examples of its usage.\n",
        "\n",
        "###**6.What is the difference between import and from ... import in Python?**\n",
        "**Ans.-**\n",
        "\n",
        "\n",
        "      *Feature*          *import module_name*          *from module_name import item_name*\n",
        "\n",
        "      What it imports     Entire module                Specific items from\n",
        "                                                       the module\n",
        "\n",
        "      How to access       module_name.item_name        item_name\n",
        "      items\n",
        "\n",
        "      Namespace           Keeps module's               Imports items into\n",
        "                          namespace separate           the current namespace\n",
        "\n",
        "      Risk of naming      Lower                        Higher\n",
        "      conflicts\n",
        "\n",
        "      Code conciseness    Less concise                 More concise\n",
        "\n",
        "\n",
        "\n"
      ],
      "metadata": {
        "id": "iGBWn11dk9Qv"
      }
    },
    {
      "cell_type": "code",
      "source": [
        "#example:-\n",
        "# Using import\n",
        "import math\n",
        "result1 = math.sqrt(25)  # Accessing sqrt using the module name\n",
        "\n",
        "# Using from ... import\n",
        "from math import sqrt\n",
        "result2 = sqrt(25)  # Accessing sqrt directly"
      ],
      "metadata": {
        "id": "vGf_ZRd7k2he"
      },
      "execution_count": 2,
      "outputs": []
    },
    {
      "cell_type": "markdown",
      "source": [
        "###**7.How can you handle multiple exceptions in Python?**\n",
        "\n",
        "**Ans.-**Multiple exceptions in Python can be handled using several approaches:\n",
        "Separate except blocks: This involves writing a different except block for each exception type. This approach allows for specific handling of each exception."
      ],
      "metadata": {
        "id": "c_26Bvv8p2E1"
      }
    },
    {
      "cell_type": "code",
      "source": [
        "    try:\n",
        "        # Code that might raise an exception\n",
        "        result = 10 / 0\n",
        "    except ZeroDivisionError:\n",
        "        print(\"Cannot divide by zero\")\n",
        "    except TypeError:\n",
        "        print(\"Type error occurred\")"
      ],
      "metadata": {
        "colab": {
          "base_uri": "https://localhost:8080/"
        },
        "id": "v_2Hm1UqpuGu",
        "outputId": "5339c28c-4622-407b-8d22-1be1cc0c37e3"
      },
      "execution_count": 3,
      "outputs": [
        {
          "output_type": "stream",
          "name": "stdout",
          "text": [
            "Cannot divide by zero\n"
          ]
        }
      ]
    },
    {
      "cell_type": "markdown",
      "source": [
        "Single except block with a tuple of exceptions: This approach handles multiple exceptions in one block by specifying them as a tuple. This is useful when similar handling is required for different exceptions.\n"
      ],
      "metadata": {
        "id": "T9anG5xxqTwp"
      }
    },
    {
      "cell_type": "code",
      "source": [
        "    try:\n",
        "        # Code that might raise an exception\n",
        "        value = int(\"abc\")\n",
        "    except (ValueError, TypeError):\n",
        "        print(\"Invalid input\")"
      ],
      "metadata": {
        "colab": {
          "base_uri": "https://localhost:8080/"
        },
        "id": "9VDYP6OtqRM8",
        "outputId": "c30e885e-3089-45c1-a291-670256a30ec0"
      },
      "execution_count": 4,
      "outputs": [
        {
          "output_type": "stream",
          "name": "stdout",
          "text": [
            "Invalid input\n"
          ]
        }
      ]
    },
    {
      "cell_type": "markdown",
      "source": [
        "Catching a base exception class: You can catch a broader class of exceptions, like Exception, to handle multiple exceptions in a generic way.\n",
        "However, this should be used cautiously as it might mask specific error handling."
      ],
      "metadata": {
        "id": "lI2u3lICqcu8"
      }
    },
    {
      "cell_type": "code",
      "source": [
        "    try:\n",
        "        # Code that might raise an exception\n",
        "        file = open(\"nonexistent_file.txt\", \"r\")\n",
        "    except Exception as e:\n",
        "        print(f\"An error occurred: {e}\")"
      ],
      "metadata": {
        "colab": {
          "base_uri": "https://localhost:8080/"
        },
        "id": "YSTEkTQuqbLW",
        "outputId": "bce7b8a6-9bef-427b-8fd5-5a034391138f"
      },
      "execution_count": 5,
      "outputs": [
        {
          "output_type": "stream",
          "name": "stdout",
          "text": [
            "An error occurred: [Errno 2] No such file or directory: 'nonexistent_file.txt'\n"
          ]
        }
      ]
    },
    {
      "cell_type": "markdown",
      "source": [
        "try...except...else...finally blocks: These blocks offer more control. The else block executes if no exception occurs in the try block, and the finally block always executes, regardless of whether an exception occurred, making it suitable for cleanup actions."
      ],
      "metadata": {
        "id": "TOctVHJyqoT4"
      }
    },
    {
      "cell_type": "code",
      "source": [
        "    try:\n",
        "        # Code that might raise an exception\n",
        "        result = 10 / 2\n",
        "    except ZeroDivisionError:\n",
        "        print(\"Cannot divide by zero\")\n",
        "    else:\n",
        "        print(\"Division successful\")\n",
        "    finally:\n",
        "        print(\"Execution complete\")"
      ],
      "metadata": {
        "colab": {
          "base_uri": "https://localhost:8080/"
        },
        "id": "2tllops_qmjm",
        "outputId": "69028087-20a4-40a9-89a5-98beb59e1ee2"
      },
      "execution_count": 6,
      "outputs": [
        {
          "output_type": "stream",
          "name": "stdout",
          "text": [
            "Division successful\n",
            "Execution complete\n"
          ]
        }
      ]
    },
    {
      "cell_type": "markdown",
      "source": [
        "### **8.What is the purpose of the with statement when handling files in Python?**\n",
        "\n",
        "**Ans.-**The with statement in Python is used for resource management and exception handling. It simplifies working with resources like files, network connections and database connections by ensuring they are properly acquired and released. When we open a file, we need to close it ourself using close(). But if something goes wrong before closing, the file might stay open, causing issues. Using with open() automatically closes the file when we're done, even if an error happens.\n",
        "\n",
        "###**9.What is the difference between multithreading and multiprocessing?**\n",
        "\n",
        "**Ans.-**\n",
        "**Multithreading:**\n",
        "\n",
        "a)Creates multiple threads within a single process.\n",
        "\n",
        "b)Threads within a process share the same memory space and resources.\n",
        "\n",
        "c)Can be more efficient for tasks that involve a lot of inter-process communication because of the shared memory.\n",
        "\n",
        "d)May be limited by the \"Global Interpreter Lock\" (GIL) in certain languages, preventing true parallelism.\n",
        "\n",
        "**Multiprocessing:**\n",
        "\n",
        "a)Creates multiple processes, each with its own memory space and resources.\n",
        "\n",
        "b)Processes can run independently and in parallel on different processors.\n",
        "\n",
        "c)More memory-intensive due to the creation of separate processes.\n",
        "\n",
        "d)Better suited for CPU-bound tasks that can be divided into independent subtasks.\n",
        "\n",
        "###**10.What are the advantages of using logging in a program?**\n",
        "\n",
        "**Ans.-**Logging offers significant advantages in software development, including improved debugging, easier troubleshooting, enhanced system observability, and better communication between developers and administrators. It provides a record of events, helping identify issues, understand system behavior, and optimize performance.\n",
        "Here's a more detailed look at the benefits:\n",
        "\n",
        "**1. Debugging and Troubleshooting:**\n",
        "Logs provide a trail of information, making it easier to pinpoint the source of errors and unexpected behavior.\n",
        "They capture details like stack traces, data being processed, and timestamps, which are crucial for understanding the context of an error.\n",
        "Logs can be particularly helpful when debugging intermittent issues or errors that are difficult to reproduce in a controlled environment.\n",
        "\n",
        "**2. System Observability:**\n",
        "Logs provide a comprehensive view of what's happening within an application, helping developers and administrators understand its behavior and performance.\n",
        "They allow for real-time monitoring of system activity, enabling early detection of potential problems.\n",
        "Logs can be used to track system metrics, identify bottlenecks, and optimize performance.\n",
        "\n",
        "**3. Communication and Collaboration:**\n",
        "Logs serve as a single source of truth, allowing developers and administrators to understand exactly what's happening within the system.\n",
        "They facilitate efficient communication and collaboration during troubleshooting and problem-solving.\n",
        "Logs can be used to document system behavior, making it easier for new team members to understand the codebase.\n",
        "\n",
        "**4. Security:**\n",
        "Logs can be used to track user activity, identify potential security threats, and audit system access.\n",
        "They can be used to detect unauthorized access, suspicious activity, and other security incidents.\n",
        "Logs can be used to comply with security regulations and standards.\n",
        "\n",
        "**5. Other Benefits:**\n",
        "Logs can be used to generate reports, analyze usage patterns, and gather business intelligence.\n",
        "They can be used to identify common user mistakes and improve the user experience.\n",
        "Logs can be used to optimize application performance over time.\n",
        "\n",
        "###**11.What is memory management in Python?**\n",
        "\n",
        "**Ans.-**Understanding Memory allocation is important to any software developer as writing efficient code means writing a memory-efficient code. Memory allocation can be defined as allocating a block of space in the computer memory to a program. In Python memory allocation and deallocation method is automatic as the Python developers created a garbage collector for Python so that the user does not have to do manual garbage collection.\n",
        "\n",
        "###**12.What are the basic steps involved in exception handling in Python?**\n",
        "\n",
        "**Ans.-**\n",
        "Exception handling in Python involves a structured approach to managing errors that may arise during the execution of a program. The basic steps are as follows:\n",
        "\n",
        "**Try Block:-**\n",
        "Enclose the code that might raise an exception within a try block. This signifies to the program that it should \"try\" to execute this block and be prepared for potential errors.\n",
        "\n",
        "**Except Block(s):-**\n",
        "Follow the try block with one or more except blocks. Each except block specifies the type of exception it can handle. If an exception occurs within the try block, Python will search for a matching except block to execute. If no matching `except block is found, the exception remains unhandled and can terminate the program.\n",
        "\n",
        "**Optional Else Block:-**\n",
        "After the except blocks, you can include an optional else block. The code within the else block will execute only if no exceptions were raised in the try block.\n",
        "\n",
        "**Optional Finally Block:-**\n",
        "Finally, you can add an optional finally block. The code within the finally block will always execute, regardless of whether an exception occurred or not. It is commonly used for cleanup actions like closing files or releasing resources.\n",
        "\n",
        "**Raise Exceptions:-**\n",
        "Use the raise keyword to manually trigger a specific exception. This is useful when you want to handle certain conditions as exceptions, even if they are not automatically raised by Python.\n",
        "\n",
        "###**13.Why is memory management important in Python?**\n",
        "\n",
        "**Ans.-**Memory management is important in Python because it ensures efficient use of resources, prevents memory leaks, and contributes to the overall stability and performance of programs. Python employs automatic memory management, handling memory allocation and deallocation, unlike languages like C/C++ where it's done manually. This automated approach simplifies development, but understanding its mechanisms remains crucial for writing optimized code.\n",
        "\n",
        "###**14.What is the role of try and except in exception handling?**\n",
        "\n",
        "**Ans.-**In exception handling, try and except blocks work together to gracefully handle errors or exceptions that may occur during code execution. The try block contains the code that might potentially raise an exception, and the except block contains the code that will be executed if an exception is raised within the try block. This allows the program to continue running instead of crashing when an error occurs.\n",
        "\n",
        "Here's a breakdown:-\n",
        "\n",
        "**try block:-**\n",
        "This block contains the code where you expect an exception to potentially be raised. If no exception occurs, the code in the try block is executed normally.\n",
        "\n",
        "**except block:-**\n",
        "This block is only executed if an exception is raised within the try block. It provides a mechanism to handle the exception, allowing the program to continue running instead of crashing. You can specify the type of exception you want to handle in the except block, allowing you to catch and handle different types of errors in your code.\n",
        "\n",
        "In essence, the try block \"attempts\" to execute a block of code, while the except block \"catches\" any exceptions that might arise during that attempt, enabling your program to handle errors gracefully.\n",
        "\n",
        "###**15.How does Python's garbage collection system work?**\n",
        "\n",
        "**Ans.-**Garbage Collection in Python is an automatic process that handles memory allocation and deallocation, ensuring efficient use of memory. Unlike languages such as C or C++ where the programmer must manually allocate and deallocate memory, Python automatically manages memory through two primary strategies:\n",
        "\n",
        "**1) Reference counting**\n",
        "\n",
        "**2) Garbage collection**\n",
        "\n",
        "**1) Reference counting:-**\n",
        "Python uses reference counting to manage memory. Each object keeps track of how many references point to it. When the reference count drops to zero i.e., no references remain, Python automatically deallocates the object.\n",
        "Example:\n"
      ],
      "metadata": {
        "id": "nr3jbAdTrBh3"
      }
    },
    {
      "cell_type": "code",
      "source": [
        "import sys\n",
        "\n",
        "x = [1, 2, 3]\n",
        "print(sys.getrefcount(x))\n",
        "\n",
        "y = x\n",
        "print(sys.getrefcount(x))\n",
        "\n",
        "y = None\n",
        "print(sys.getrefcount(x))"
      ],
      "metadata": {
        "colab": {
          "base_uri": "https://localhost:8080/"
        },
        "id": "wL8U42G0q6wE",
        "outputId": "930fbc1b-7915-45d6-c3ec-da581e96df4f"
      },
      "execution_count": 8,
      "outputs": [
        {
          "output_type": "stream",
          "name": "stdout",
          "text": [
            "2\n",
            "3\n",
            "2\n"
          ]
        }
      ]
    },
    {
      "cell_type": "markdown",
      "source": [
        "garbage collection is a memory management technique used in programming languages to automatically reclaim memory that is no longer accessible or in use by the application. To handle such circular references, Python uses a Garbage Collector (GC) from the built-in gc module. This collector is able to detect and clean up objects involved in reference cycles.\n",
        "\n",
        "\n",
        "Python’s Generational Garbage Collector is designed to deal with cyclic references. It organizes objects into three generations based on their lifespan:\n",
        "\n",
        "**Generation 0:** Newly created objects.\n",
        "\n",
        "**Generation 1:** Objects that survived one collection cycle.\n",
        "\n",
        "**Generation 2:** Long-lived objects.\n",
        "\n",
        "###**16.What is the purpose of the else block in exception handling?**\n",
        "\n",
        "**Ans.-**The else block in exception handling, often used in try...except...else structures, executes only when no exceptions are raised within the try block. It provides a way to execute code that's intended to run when the try block executes successfully, effectively separating normal execution from exception handling.\n",
        "\n",
        "**Purpose:** The else block allows you to execute specific code when the try block's operations are successful and no errors occur.\n",
        "\n",
        "**Syntax:** In many languages, the else block follows the try and except blocks.\n",
        "\n",
        "**Example (Python):**"
      ],
      "metadata": {
        "id": "MIr80c2jvXn_"
      }
    },
    {
      "cell_type": "code",
      "source": [
        "    try:\n",
        "        number = 10 / 2\n",
        "        print(number)\n",
        "    except ZeroDivisionError:\n",
        "        print(\"Cannot divide by zero\")\n",
        "    else:\n",
        "        print(\"Division successful\")\n",
        "    finally:\n",
        "        print(\"This always executes\")"
      ],
      "metadata": {
        "colab": {
          "base_uri": "https://localhost:8080/"
        },
        "id": "foQSymAPvFmV",
        "outputId": "91bfe669-1bce-4e2c-c76e-44c12b367939"
      },
      "execution_count": 9,
      "outputs": [
        {
          "output_type": "stream",
          "name": "stdout",
          "text": [
            "5.0\n",
            "Division successful\n",
            "This always executes\n"
          ]
        }
      ]
    },
    {
      "cell_type": "markdown",
      "source": [
        "### **17.What are the common logging levels in Python?**\n",
        "\n",
        "**Ans.-**Python's logging module provides a set of standard logging levels to categorize events by severity. These levels, in ascending order of severity, are:\n",
        "\n",
        "**DEBUG (10):** Detailed information, typically used for diagnosing problems.\n",
        "\n",
        "**INFO (20):** General information about the program's execution, confirming that things are working as expected.\n",
        "\n",
        "**WARNING (30):** Indicates a potential issue or unexpected event that doesn't necessarily halt execution.\n",
        "\n",
        "**ERROR (40):** Signifies a more serious problem where the software has failed to perform a function.\n",
        "\n",
        "**CRITICAL (50):** The most severe level, indicating a critical error that might cause the program to terminate.\n",
        "\n",
        "**NOTSET (0):** When a level is not explicitly set, this acts as the default level.\n",
        "\n",
        "###**18.What is the difference between os.fork() and multiprocessing in Python?**\n",
        "**Ans.-** **os.fork()** and **multiprocessing** both enable process creation in Python, but they function differently and are suited for distinct scenarios.\n",
        "\n",
        "##os.fork()\n",
        "**a)**Creates a child process that is a nearly exact duplicate of the parent process, including memory space, open files, and other resources.\n",
        "\n",
        "**b)**It is a low-level system call, primarily available on Unix-like systems.\n",
        "\n",
        "**c)**Faster due to copy-on-write mechanism, but can be unsafe in multithreaded programs, potentially leading to deadlocks if threads hold locks at the time of forking.\n",
        "\n",
        "\n"
      ],
      "metadata": {
        "id": "C8fxmqxywJ04"
      }
    },
    {
      "cell_type": "code",
      "source": [
        "import os\n",
        "\n",
        "pid = os.fork()\n",
        "\n",
        "if pid == 0:\n",
        "    # Child process\n",
        "    print(\"Child process:\", os.getpid())\n",
        "else:\n",
        "    # Parent process\n",
        "    print(\"Parent process:\", os.getpid(), \"Child PID:\", pid)"
      ],
      "metadata": {
        "colab": {
          "base_uri": "https://localhost:8080/"
        },
        "id": "8pe0MKATwEHA",
        "outputId": "050130cf-95f7-4c83-fae9-fe0e745fd16d"
      },
      "execution_count": 10,
      "outputs": [
        {
          "output_type": "stream",
          "name": "stdout",
          "text": [
            "Parent process: 519 Child PID: 21478\n",
            "Child process: 21478\n"
          ]
        }
      ]
    },
    {
      "cell_type": "markdown",
      "source": [
        "##multiprocessing\n",
        "**a)**Provides a high-level interface for creating and managing processes, offering more control and flexibility.\n",
        "\n",
        "**b)**Supports different start methods like \"fork,\" \"spawn,\" and \"forkserver,\" allowing for better compatibility across platforms (including Windows).\n",
        "\n",
        "**c)**\"Spawn\" creates a fresh Python interpreter process, avoiding the potential issues with forking in multithreaded environments.\n",
        "\n",
        "**d)**Generally safer and more robust for complex applications, but may have higher overhead compared to os.fork()."
      ],
      "metadata": {
        "id": "zVUdEuBy44N8"
      }
    },
    {
      "cell_type": "code",
      "source": [
        "import multiprocessing\n",
        "\n",
        "def worker(num):\n",
        "    print(\"Worker process:\", multiprocessing.current_process().name, \"Number:\", num)\n",
        "\n",
        "if __name__ == \"__main__\":\n",
        "    processes = []\n",
        "    for i in range(5):\n",
        "        p = multiprocessing.Process(target=worker, args=(i,), name=f\"Process-{i}\")\n",
        "        processes.append(p)\n",
        "        p.start()\n",
        "\n",
        "    for p in processes:\n",
        "        p.join()"
      ],
      "metadata": {
        "id": "fV8M6LZU42q3"
      },
      "execution_count": null,
      "outputs": []
    },
    {
      "cell_type": "markdown",
      "source": [
        "### **19.What is the importance of closing a file in Python?**\n",
        "\n",
        "**Ans.-**The Importance of Closing a File When you open a file in Python, the operating system allocates system resources, such as memory and file handles, to manage the file. These resources are limited, and if you don't close the file properly, they can remain occupied, leading to various issues:\n",
        "\n",
        "**1-Resource Leaks:** If you don't close a file, the system resources used by that file will not be released, which can lead to resource leaks. Over time, these leaks can consume a significant amount of system resources, potentially causing performance issues or even crashes.\n",
        "\n",
        "**2-Data Integrity:** When you write data to a file, the data is typically buffered in memory before being flushed to the disk. If you don't close the file, the buffered data may not be written to the disk, leading to data loss or inconsistencies.\n",
        "\n",
        "**3-File Locking:** Some file operations, such as writing or appending, require exclusive access to the file. If you don't close the file, it may remain locked, preventing other processes or applications from accessing the file.\n",
        "\n",
        "\n",
        "###**20.What is the difference between file.read() and file.readline() in Python?**\n",
        "**Ans.-**The core difference between file.read() and file.readline() lies in how much data they read from a file at a time:\n",
        "\n",
        "#**file.read():**\n",
        "This method reads the entire file content as a single string. If a size argument is provided (e.g., file.read(size)), it reads up to that number of characters or bytes. It is suitable for smaller files where loading the entire content into memory is not an issue.\n",
        "\n",
        "#**file.readline():**\n",
        "This method reads a single line from the file, including the newline character (\\n) at the end. Each subsequent call to readline() will read the next line in the file. If the end of the file is reached, it returns an empty string. It's efficient for processing large files line by line, as it doesn't load the entire file into memory at once.\n",
        "\n",
        "###**21.What is the logging module in Python used for?**\n",
        "\n",
        "**Ans.-**The logging module in Python is used for recording events and debugging issues during application execution. It provides a flexible system for logging messages, including errors, warnings, and informational messages, to various output destinations like files or the console.\n",
        "\n",
        "Here's a more detailed explanation:\n",
        "\n",
        "**Event Tracking:**\n",
        "Logging allows developers to track what happens while a program is running, including errors, warnings, and other notable events.\n",
        "\n",
        "**Debugging:**\n",
        "It helps developers identify the root cause of issues by providing a detailed record of the application's execution.\n",
        "\n",
        "**Monitoring:**\n",
        "Logging can be used to monitor the health and performance of an application over time.\n",
        "\n",
        "**Flexibility:**\n",
        "The logging module offers a wide range of options for configuring log messages, including log levels, formatters, and handlers.\n",
        "\n",
        "**Output Destinations:**\n",
        "Log messages can be directed to various output destinations, such as files, the console, or even other applications.\n",
        "\n",
        "###**22.What is the os module in Python used for in file handling?**\n",
        "**Ans.-**\n",
        "#**Python os Module**\n",
        "Python has a built-in os module with methods for interacting with the operating system, like creating files and directories, management of files and directories, input, output, environment variables, process management, etc.\n",
        "\n",
        "###**23.What are the challenges associated with memory management in Python?**\n",
        "\n",
        "**Ans.-**Python's automatic memory management, while simplifying development, presents several challenges:\n",
        "\n",
        "**Memory Leaks:**\n",
        "Although Python uses garbage collection, it can fail to collect objects involved in circular references, leading to memory leaks where memory is allocated but not freed, causing increased memory consumption over time.\n",
        "\n",
        "**Memory Bloat:**\n",
        "Inefficient code or data structures can lead to excessive memory usage, known as memory bloat. This occurs when programs load large amounts of data and fail to deallocate it or use data structures that consume more memory than necessary.\n",
        "\n",
        "**Performance Overhead:**\n",
        "Garbage collection, while essential, can introduce performance overhead as the interpreter periodically pauses execution to reclaim memory. This can lead to unpredictable delays, especially in performance-critical applications.\n",
        "\n",
        "**Limited Control:**\n",
        "Python abstracts away many memory management details, giving developers less control compared to languages like C or C++. This can make it difficult to optimize memory usage or diagnose memory-related issues.\n",
        "\n",
        "**Fragmentation:**\n",
        "Over time, memory can become fragmented, with small, non-contiguous chunks available. This can make it difficult to allocate large blocks of memory, even if sufficient total memory is available.\n",
        "\n",
        "**Multiprocessing Overhead:**\n",
        "When using multiprocessing, each process has its own memory space, which can lead to higher memory consumption compared to multithreading, where threads share the same memory space.\n",
        "\n",
        "**Large Datasets:**\n",
        "When working with large datasets, Python's memory management can become a bottleneck if the data is not handled efficiently, potentially leading to memory errors or slow performance.\n",
        "\n",
        "**Dynamic Allocation Overhead:**\n",
        "Dynamic memory allocation in Python can be slower and less predictable compared to static allocation, as the time taken to allocate memory may vary and the memory pool can become fragmented.\n",
        "\n",
        "Addressing these challenges often requires careful coding practices, memory profiling, and a deep understanding of Python's memory management mechanisms.\n",
        "\n",
        "###**24.How do you raise an exception manually in Python?**\n",
        "\n",
        "**Ans.-**\n",
        "#Python Raise an Exception\n",
        "\n",
        "Raise an exception\n",
        "As a Python developer you can choose to throw an exception if a condition occurs.\n",
        "\n",
        "To throw (or raise) an exception, use the raise keyword.\n",
        "\n"
      ],
      "metadata": {
        "id": "Wt47pjuP5h3_"
      }
    },
    {
      "cell_type": "code",
      "source": [
        "#ExampleGet your own Python Server\n",
        "#Raise an error and stop the program if x is lower than 0:\n",
        "\n",
        "x = -1\n",
        "\n",
        "if x < 0:\n",
        "  raise Exception(\"Sorry, no numbers below zero\")\n",
        "\n",
        "\n",
        "#Example\n",
        "#Raise a TypeError if x is not an integer:\n",
        "\n",
        "x = \"hello\"\n",
        "\n",
        "if not type(x) is int:\n",
        "  raise TypeError(\"Only integers are allowed\")\n",
        "\n",
        "\n",
        ""
      ],
      "metadata": {
        "colab": {
          "base_uri": "https://localhost:8080/",
          "height": 176
        },
        "id": "XKwB2a4A-vUC",
        "outputId": "3176e20f-b02a-4f21-9f7e-56623719d408"
      },
      "execution_count": 1,
      "outputs": [
        {
          "output_type": "error",
          "ename": "Exception",
          "evalue": "Sorry, no numbers below zero",
          "traceback": [
            "\u001b[0;31m---------------------------------------------------------------------------\u001b[0m",
            "\u001b[0;31mException\u001b[0m                                 Traceback (most recent call last)",
            "\u001b[0;32m<ipython-input-1-2edc57024fbc>\u001b[0m in \u001b[0;36m<cell line: 0>\u001b[0;34m()\u001b[0m\n\u001b[1;32m      2\u001b[0m \u001b[0;34m\u001b[0m\u001b[0m\n\u001b[1;32m      3\u001b[0m \u001b[0;32mif\u001b[0m \u001b[0mx\u001b[0m \u001b[0;34m<\u001b[0m \u001b[0;36m0\u001b[0m\u001b[0;34m:\u001b[0m\u001b[0;34m\u001b[0m\u001b[0;34m\u001b[0m\u001b[0m\n\u001b[0;32m----> 4\u001b[0;31m   \u001b[0;32mraise\u001b[0m \u001b[0mException\u001b[0m\u001b[0;34m(\u001b[0m\u001b[0;34m\"Sorry, no numbers below zero\"\u001b[0m\u001b[0;34m)\u001b[0m\u001b[0;34m\u001b[0m\u001b[0;34m\u001b[0m\u001b[0m\n\u001b[0m",
            "\u001b[0;31mException\u001b[0m: Sorry, no numbers below zero"
          ]
        }
      ]
    },
    {
      "cell_type": "markdown",
      "source": [
        "### **25.Why is it important to use multithreading in certain applications?**\n",
        "**Ans.-**Multithreading is important in applications that benefit from concurrent execution of tasks, improved responsiveness, and efficient resource utilization. By breaking down a program into smaller, independent threads, applications can perform multiple operations simultaneously, leading to faster execution, smoother user interfaces, and better utilization of CPU cores.\n",
        "Here's a more detailed explanation:\n",
        "\n",
        "##**1.Enhanced Performance:**\n",
        "**Parallel Execution:**\n",
        "\n",
        "Multithreading allows different parts of a program to run concurrently, especially on multi-core processors. This can significantly reduce the overall execution time, especially for tasks that can be divided into smaller, independent operations.\n",
        "\n",
        "**CPU Utilization:**\n",
        "\n",
        "By allowing multiple threads to run, multithreading can keep the CPU busy, even when one thread is waiting for I/O or other resources. This improves overall CPU utilization and can lead to faster application performance.\n",
        "\n",
        "##**2.Improved Responsiveness:**\n",
        "**User Interface:**\n",
        "\n",
        "Multithreading allows the user interface to remain responsive even while the application is performing long-running tasks in the background. This prevents the UI from freezing and provides a better user experience.\n",
        "\n",
        "**Concurrency:**\n",
        "\n",
        "Multithreading enables an application to handle multiple user requests or events concurrently, making it more responsive and efficient.\n",
        "\n",
        "##**3. Efficient Resource Utilization:**\n",
        "**Context Switching:**\n",
        "\n",
        "Switching between threads is generally faster than switching between separate processes. This is because threads within the same process share the same memory space and resources, reducing the overhead associated with context switching.\n",
        "\n",
        "**Resource Sharing:**\n",
        "\n",
        "Threads within the same process can easily share data and resources, simplifying communication and coordination between different parts of the application.\n",
        "\n",
        "**Scalability:**\n",
        "\n",
        "Multithreading allows applications to scale more easily by adding more threads to handle increased workloads.\n",
        "\n",
        "##**4.Other Benefits:**\n",
        "**Simpler Program Structure:**\n",
        "\n",
        "In some cases, multithreading can simplify the structure of a program by allowing different parts of the application to handle specific tasks in a more natural way.\n",
        "\n",
        "**Network Applications:**\n",
        "\n",
        "Multithreading is crucial for applications like web servers, which need to handle multiple client requests simultaneously.\n",
        "\n",
        "**Scientific Computing:**\n",
        "\n",
        "Multithreading can be used to parallelize computations, significantly speeding up complex simulations and calculations.\n",
        "\n",
        "**In summary,** multithreading is a valuable tool for improving application performance, responsiveness, and resource utilization, especially in applications that involve complex computations, user interface interaction, and handling multiple concurrent requests."
      ],
      "metadata": {
        "id": "Mc941BRs_WYv"
      }
    },
    {
      "cell_type": "markdown",
      "source": [
        "# **Practical Questions**\n",
        "\n",
        "###**1.-How can you open a file for writing in Python and write a string to it?**\n",
        "\n",
        "\n",
        "\n"
      ],
      "metadata": {
        "id": "TmRYsfWXBdvm"
      }
    },
    {
      "cell_type": "code",
      "source": [
        "# Open the file in write mode\n",
        "with open(\"example.txt\", \"w\") as file:\n",
        "    # Write a string to the file\n",
        "    file.write(\"Hello, this is a sample string.\")\n"
      ],
      "metadata": {
        "id": "Okmuauo1EVQX"
      },
      "execution_count": 2,
      "outputs": []
    },
    {
      "cell_type": "markdown",
      "source": [
        "###**2.Write a Python program to read the contents of a file and print each line?**\n",
        "\n",
        "**Ans.-**"
      ],
      "metadata": {
        "id": "VAIsrGJgEZE2"
      }
    },
    {
      "cell_type": "code",
      "source": [
        "# Open the file in read mode\n",
        "with open(\"example.txt\", \"r\") as file:\n",
        "    # Read and print each line\n",
        "    for line in file:\n",
        "        print(line.strip())  # .strip() removes any extra newline or spaces\n"
      ],
      "metadata": {
        "colab": {
          "base_uri": "https://localhost:8080/"
        },
        "id": "mD4djpMEEX1a",
        "outputId": "4aff9e65-96ba-42b1-86b7-1f47054cd2af"
      },
      "execution_count": 3,
      "outputs": [
        {
          "output_type": "stream",
          "name": "stdout",
          "text": [
            "Hello, this is a sample string.\n"
          ]
        }
      ]
    },
    {
      "cell_type": "markdown",
      "source": [
        "### **3.How would you handle a case where the file doesn't exist while trying to open it for reading?**\n",
        "**Ans.-**"
      ],
      "metadata": {
        "id": "kauG5PpcExSZ"
      }
    },
    {
      "cell_type": "code",
      "source": [
        "try:\n",
        "    with open(\"example.txt\", \"r\") as file:\n",
        "        for line in file:\n",
        "            print(line.strip())\n",
        "except FileNotFoundError:\n",
        "    print(\"The file was not found. Please check the file name or path.\")\n"
      ],
      "metadata": {
        "colab": {
          "base_uri": "https://localhost:8080/"
        },
        "id": "XLAmxMQvEvVL",
        "outputId": "028519fc-6b4d-4de1-8618-fdd5bd9e56e7"
      },
      "execution_count": 4,
      "outputs": [
        {
          "output_type": "stream",
          "name": "stdout",
          "text": [
            "Hello, this is a sample string.\n"
          ]
        }
      ]
    },
    {
      "cell_type": "markdown",
      "source": [
        "### **4.Write a Python script that reads from one file and writes its content to another file.**\n",
        "\n",
        "**Ans.-**"
      ],
      "metadata": {
        "id": "gMZsDKp9FOKf"
      }
    },
    {
      "cell_type": "code",
      "source": [
        "# Read from source file and write to destination file\n",
        "try:\n",
        "    with open(\"source.txt\", \"r\") as source_file:\n",
        "        content = source_file.read()  # Read entire content\n",
        "\n",
        "    with open(\"destination.txt\", \"w\") as destination_file:\n",
        "        destination_file.write(content)  # Write content to new file\n",
        "\n",
        "    print(\"File copied successfully.\")\n",
        "except FileNotFoundError:\n",
        "    print(\"Source file not found. Please check the file name or path.\")\n"
      ],
      "metadata": {
        "colab": {
          "base_uri": "https://localhost:8080/"
        },
        "id": "6ouMx8fgFNHL",
        "outputId": "35039352-01ce-46a3-a356-ceb4813f0ec6"
      },
      "execution_count": 5,
      "outputs": [
        {
          "output_type": "stream",
          "name": "stdout",
          "text": [
            "Source file not found. Please check the file name or path.\n"
          ]
        }
      ]
    },
    {
      "cell_type": "markdown",
      "source": [
        "### **5.How would you catch and handle division by zero error in Python?**\n",
        "\n",
        "**Ans.-**"
      ],
      "metadata": {
        "id": "Bt-5EpyuFlv2"
      }
    },
    {
      "cell_type": "code",
      "source": [
        "try:\n",
        "    numerator = 10\n",
        "    denominator = 0\n",
        "    result = numerator / denominator\n",
        "    print(\"Result:\", result)\n",
        "except ZeroDivisionError:\n",
        "    print(\"Error: Cannot divide by zero.\")\n"
      ],
      "metadata": {
        "colab": {
          "base_uri": "https://localhost:8080/"
        },
        "id": "nhoHXKENFjxl",
        "outputId": "34dd9e03-4a1e-43e2-9e16-b8581297b2f3"
      },
      "execution_count": 6,
      "outputs": [
        {
          "output_type": "stream",
          "name": "stdout",
          "text": [
            "Error: Cannot divide by zero.\n"
          ]
        }
      ]
    },
    {
      "cell_type": "markdown",
      "source": [
        "### **6.Write a Python program that logs an error message to a log file when a division by zero exception occurs.**\n",
        "\n",
        "**Ans.-**"
      ],
      "metadata": {
        "id": "Y55Yxqy4F8hc"
      }
    },
    {
      "cell_type": "code",
      "source": [
        "import logging\n",
        "\n",
        "# Configure logging to write to a file\n",
        "logging.basicConfig(filename=\"error_log.txt\", level=logging.ERROR,\n",
        "                    format='%(asctime)s - %(levelname)s - %(message)s')\n",
        "\n",
        "try:\n",
        "    numerator = 10\n",
        "    denominator = 0\n",
        "    result = numerator / denominator\n",
        "    print(\"Result:\", result)\n",
        "except ZeroDivisionError as e:\n",
        "    logging.error(\"Division by zero error occurred: %s\", e)\n",
        "    print(\"An error occurred. Check error_log.txt for details.\")\n"
      ],
      "metadata": {
        "colab": {
          "base_uri": "https://localhost:8080/"
        },
        "id": "w2yXuHAhF6d1",
        "outputId": "fe38e551-6a8a-4f14-c079-8315bb9b1052"
      },
      "execution_count": 7,
      "outputs": [
        {
          "output_type": "stream",
          "name": "stderr",
          "text": [
            "ERROR:root:Division by zero error occurred: division by zero\n"
          ]
        },
        {
          "output_type": "stream",
          "name": "stdout",
          "text": [
            "An error occurred. Check error_log.txt for details.\n"
          ]
        }
      ]
    },
    {
      "cell_type": "markdown",
      "source": [
        "### **7.How do you log information at different levels (INFO, ERROR, WARNING) in Python using the logging module?**\n",
        "**Ans.-**\n",
        "In Python, you can log messages at different severity levels using the logging module. The most commonly used logging levels are:\n",
        "\n",
        "DEBUG\n",
        "\n",
        "INFO\n",
        "\n",
        "WARNING\n",
        "\n",
        "ERROR\n",
        "\n",
        "CRITICAL\n",
        "\n",
        "Here’s an example of how to log at different levels:"
      ],
      "metadata": {
        "id": "JePmcrjnGbc_"
      }
    },
    {
      "cell_type": "code",
      "source": [
        "import logging\n",
        "\n",
        "# Configure the logging\n",
        "logging.basicConfig(\n",
        "    filename='app.log',      # Log file name\n",
        "    level=logging.DEBUG,     # Minimum level to log\n",
        "    format='%(asctime)s - %(levelname)s - %(message)s'\n",
        ")\n",
        "\n",
        "# Log messages at different levels\n",
        "logging.debug(\"This is a debug message.\")\n",
        "logging.info(\"This is an info message.\")\n",
        "logging.warning(\"This is a warning message.\")\n",
        "logging.error(\"This is an error message.\")\n",
        "logging.critical(\"This is a critical message.\")\n"
      ],
      "metadata": {
        "colab": {
          "base_uri": "https://localhost:8080/"
        },
        "id": "o2AbeJjcGVEd",
        "outputId": "cfed27df-63ac-4b3e-93a7-e1316d97f5c4"
      },
      "execution_count": 8,
      "outputs": [
        {
          "output_type": "stream",
          "name": "stderr",
          "text": [
            "WARNING:root:This is a warning message.\n",
            "ERROR:root:This is an error message.\n",
            "CRITICAL:root:This is a critical message.\n"
          ]
        }
      ]
    },
    {
      "cell_type": "markdown",
      "source": [
        "### **8.Write a program to handle a file opening error using exception handling.**\n",
        "**Ans.-**"
      ],
      "metadata": {
        "id": "6MDzpskQHEl6"
      }
    },
    {
      "cell_type": "code",
      "source": [
        "# Program to handle file opening errors\n",
        "\n",
        "file_name = \"non_existent_file.txt\"\n",
        "\n",
        "try:\n",
        "    with open(file_name, \"r\") as file:\n",
        "        content = file.read()\n",
        "        print(content)\n",
        "except FileNotFoundError:\n",
        "    print(f\"Error: The file '{file_name}' was not found.\")\n",
        "except PermissionError:\n",
        "    print(f\"Error: Permission denied while trying to open '{file_name}'.\")\n",
        "except Exception as e:\n",
        "    print(f\"An unexpected error occurred: {e}\")\n"
      ],
      "metadata": {
        "colab": {
          "base_uri": "https://localhost:8080/"
        },
        "id": "IaCHFYrLHDAL",
        "outputId": "6c9382f8-a0f8-4f47-998b-4f433fac4efe"
      },
      "execution_count": 9,
      "outputs": [
        {
          "output_type": "stream",
          "name": "stdout",
          "text": [
            "Error: The file 'non_existent_file.txt' was not found.\n"
          ]
        }
      ]
    },
    {
      "cell_type": "markdown",
      "source": [
        "### **9.How can you read a file line by line and store its content in a list in Python?**\n",
        "**Ans.-**"
      ],
      "metadata": {
        "id": "lJM3IioHHkJR"
      }
    },
    {
      "cell_type": "markdown",
      "source": [
        "✅ Method 1: Using readlines()"
      ],
      "metadata": {
        "id": "FJwMUpKSIGAM"
      }
    },
    {
      "cell_type": "code",
      "source": [
        "with open(\"example.txt\", \"r\") as file:\n",
        "    lines = file.readlines()\n",
        "\n",
        "# Optional: remove newline characters\n",
        "lines = [line.strip() for line in lines]\n",
        "\n",
        "print(lines)\n"
      ],
      "metadata": {
        "id": "nKGIxouzHeme"
      },
      "execution_count": null,
      "outputs": []
    },
    {
      "cell_type": "markdown",
      "source": [
        "✅ Method 2: Using a loop and list comprehension"
      ],
      "metadata": {
        "id": "_71UO91JIMW5"
      }
    },
    {
      "cell_type": "code",
      "source": [
        "with open(\"example.txt\", \"r\") as file:\n",
        "    lines = [line.strip() for line in file]\n",
        "\n",
        "print(lines)\n"
      ],
      "metadata": {
        "id": "G9PZ7twzISSc"
      },
      "execution_count": null,
      "outputs": []
    },
    {
      "cell_type": "markdown",
      "source": [
        "### **10.How can you append data to an existing file in Python?**\n",
        "**Ans.-**"
      ],
      "metadata": {
        "id": "E2Q9_AvGIb5T"
      }
    },
    {
      "cell_type": "code",
      "source": [
        "# Open the file in append mode\n",
        "with open(\"example.txt\", \"a\") as file:\n",
        "    file.write(\"This line will be added to the file.\\n\")\n"
      ],
      "metadata": {
        "id": "c8r1bRq8Iyxt"
      },
      "execution_count": 10,
      "outputs": []
    },
    {
      "cell_type": "markdown",
      "source": [
        "### **11.Write a Python program that uses a try-except block to handle an error when attempting to access a dictionary key that doesn't exist.**\n",
        "\n",
        "**Ans.-**"
      ],
      "metadata": {
        "id": "W614u8hfI143"
      }
    },
    {
      "cell_type": "code",
      "source": [
        "my_dict = {\"name\": \"Priya\", \"age\": 21}\n",
        "\n",
        "try:\n",
        "    # Attempt to access a key that might not exist\n",
        "    value = my_dict[\"address\"]\n",
        "    print(\"Address:\", value)\n",
        "except KeyError:\n",
        "    print(\"Error: The key 'address' does not exist in the dictionary.\")\n",
        "\n"
      ],
      "metadata": {
        "colab": {
          "base_uri": "https://localhost:8080/"
        },
        "id": "4mWTFflYI05M",
        "outputId": "0b907a62-760c-4d45-bace-bab92d1a647c"
      },
      "execution_count": 11,
      "outputs": [
        {
          "output_type": "stream",
          "name": "stdout",
          "text": [
            "Error: The key 'address' does not exist in the dictionary.\n"
          ]
        }
      ]
    },
    {
      "cell_type": "markdown",
      "source": [
        "### **12.Write a program that demonstrates using multiple except blocks to handle different types of exceptions.**\n",
        "\n",
        "**Ans.-**\n"
      ],
      "metadata": {
        "id": "jdcJlrd9JQTJ"
      }
    },
    {
      "cell_type": "code",
      "source": [
        "try:\n",
        "    num1 = int(input(\"Enter numerator: \"))\n",
        "    num2 = int(input(\"Enter denominator: \"))\n",
        "\n",
        "    result = num1 / num2\n",
        "    print(\"Result:\", result)\n",
        "\n",
        "    my_dict = {\"key\": \"value\"}\n",
        "    print(\"Accessing dictionary:\", my_dict[\"non_existent_key\"])\n",
        "\n",
        "except ZeroDivisionError:\n",
        "    print(\"Error: Cannot divide by zero.\")\n",
        "\n",
        "except ValueError:\n",
        "    print(\"Error: Please enter a valid integer.\")\n",
        "\n",
        "except KeyError:\n",
        "    print(\"Error: The specified key was not found in the dictionary.\")\n",
        "\n",
        "except Exception as e:\n",
        "    print(f\"An unexpected error occurred: {e}\")\n"
      ],
      "metadata": {
        "id": "SrIYE9K3JOqi"
      },
      "execution_count": null,
      "outputs": []
    },
    {
      "cell_type": "markdown",
      "source": [
        "### **13.How would you check if a file exists before attempting to read it in Python?**\n",
        "\n",
        "**Ans.-**\n",
        "##**Method 1: Using os.path.exists**"
      ],
      "metadata": {
        "id": "MJKjZhczJy1V"
      }
    },
    {
      "cell_type": "code",
      "source": [
        "import os\n",
        "\n",
        "file_path = \"example.txt\"\n",
        "\n",
        "if os.path.exists(file_path):\n",
        "    with open(file_path, \"r\") as file:\n",
        "        content = file.read()\n",
        "        print(content)\n",
        "else:\n",
        "    print(f\"The file '{file_path}' does not exist.\")\n"
      ],
      "metadata": {
        "id": "KiSqqH8QJrXy"
      },
      "execution_count": null,
      "outputs": []
    },
    {
      "cell_type": "markdown",
      "source": [
        "##**Method 2: Using pathlib.Path.exists**"
      ],
      "metadata": {
        "id": "5kGbtamOKfxP"
      }
    },
    {
      "cell_type": "code",
      "source": [
        "from pathlib import Path\n",
        "\n",
        "file_path = Path(\"example.txt\")\n",
        "\n",
        "if file_path.exists():\n",
        "    with file_path.open(\"r\") as file:\n",
        "        content = file.read()\n",
        "        print(content)\n",
        "else:\n",
        "    print(f\"The file '{file_path}' does not exist.\")\n"
      ],
      "metadata": {
        "id": "pyfWwRXFKb2L"
      },
      "execution_count": null,
      "outputs": []
    },
    {
      "cell_type": "markdown",
      "source": [
        "### **14. Write a program that uses the logging module to log both informational and error messages**.\n",
        "\n",
        "**Ans.-**"
      ],
      "metadata": {
        "id": "XOV-GTp7Kvsj"
      }
    },
    {
      "cell_type": "code",
      "source": [
        "import logging\n",
        "\n",
        "# Configure logging: logs go to 'app.log' with INFO level and above\n",
        "logging.basicConfig(\n",
        "    filename='app.log',\n",
        "    level=logging.INFO,\n",
        "    format='%(asctime)s - %(levelname)s - %(message)s'\n",
        ")\n",
        "\n",
        "def divide_numbers(num1, num2):\n",
        "    logging.info(f\"Attempting to divide {num1} by {num2}\")\n",
        "    try:\n",
        "        result = num1 / num2\n",
        "        logging.info(f\"Division successful: result is {result}\")\n",
        "        return result\n",
        "    except ZeroDivisionError:\n",
        "        logging.error(\"Error: Division by zero attempted.\")\n",
        "        return None\n",
        "\n",
        "# Example usage\n",
        "divide_numbers(10, 2)\n",
        "divide_numbers(10, 0)\n"
      ],
      "metadata": {
        "id": "BySlGBt5KsAV"
      },
      "execution_count": null,
      "outputs": []
    },
    {
      "cell_type": "markdown",
      "source": [
        "### **15.Write a Python program that prints the content of a file and handles the case when the file is empty.**\n",
        "**Ans.-**"
      ],
      "metadata": {
        "id": "cIOxvS0ELC0n"
      }
    },
    {
      "cell_type": "code",
      "source": [
        "file_name = \"example.txt\"\n",
        "\n",
        "try:\n",
        "    with open(file_name, \"r\") as file:\n",
        "        content = file.read()\n",
        "        if content:\n",
        "            print(\"File content:\")\n",
        "            print(content)\n",
        "        else:\n",
        "            print(\"The file is empty.\")\n",
        "except FileNotFoundError:\n",
        "    print(f\"Error: The file '{file_name}' does not exist.\")\n",
        "except Exception as e:\n",
        "    print(f\"An unexpected error occurred: {e}\")\n"
      ],
      "metadata": {
        "id": "M_GNhRZzLAd3"
      },
      "execution_count": null,
      "outputs": []
    },
    {
      "cell_type": "markdown",
      "source": [
        "### **16.Demonstrate how to use memory profiling to check the memory usage of a small program.**\n",
        "**Ans.-**\n",
        "\n",
        "## **Step 1: Install memory_profiler**"
      ],
      "metadata": {
        "id": "SX0kfsRsLa_x"
      }
    },
    {
      "cell_type": "code",
      "source": [
        "pip install memory_profiler\n"
      ],
      "metadata": {
        "id": "6z4Tuu7OLaLi"
      },
      "execution_count": null,
      "outputs": []
    },
    {
      "cell_type": "markdown",
      "source": [
        "## **Step 2: Write a Python program with memory profiling**"
      ],
      "metadata": {
        "id": "7y98H85wL_W2"
      }
    },
    {
      "cell_type": "code",
      "source": [
        "from memory_profiler import profile\n",
        "\n",
        "@profile\n",
        "def my_function():\n",
        "    a = [i for i in range(100000)]  # Create a large list\n",
        "    b = [i*i for i in range(100000)]\n",
        "    del a\n",
        "    return b\n",
        "\n",
        "if __name__ == \"__main__\":\n",
        "    my_function()\n"
      ],
      "metadata": {
        "id": "jrrQuuP3MI2A"
      },
      "execution_count": null,
      "outputs": []
    },
    {
      "cell_type": "markdown",
      "source": [
        "## **Step 3: Run the program with memory profiler**"
      ],
      "metadata": {
        "id": "X0YKoYgxMLFO"
      }
    },
    {
      "cell_type": "code",
      "source": [
        "python -m memory_profiler memory_test.py\n",
        "\n",
        "\n",
        "Line #    Mem usage    Increment   Line Contents\n",
        "================================================\n",
        "     4     10.0 MiB     10.0 MiB   @profile\n",
        "     5                             def my_function():\n",
        "     6     20.5 MiB     10.5 MiB       a = [i for i in range(100000)]\n",
        "     7     38.3 MiB     17.8 MiB       b = [i*i for i in range(100000)]\n",
        "     8     20.6 MiB    -17.7 MiB       del a\n",
        "     9     20.6 MiB      0.0 MiB       return b\n"
      ],
      "metadata": {
        "id": "SGRSlbFdMJ0p"
      },
      "execution_count": null,
      "outputs": []
    },
    {
      "cell_type": "markdown",
      "source": [
        "### **17.Write a Python program to create and write a list of numbers to a file, one number per line.**\n",
        "**Ans.-**"
      ],
      "metadata": {
        "id": "aTowwJ3vMgSW"
      }
    },
    {
      "cell_type": "code",
      "source": [
        "numbers = [1, 2, 3, 4, 5, 6, 7, 8, 9, 10]\n",
        "\n",
        "with open(\"numbers.txt\", \"w\") as file:\n",
        "    for number in numbers:\n",
        "        file.write(f\"{number}\\n\")\n"
      ],
      "metadata": {
        "id": "E5x81Hf5MzNK"
      },
      "execution_count": null,
      "outputs": []
    },
    {
      "cell_type": "markdown",
      "source": [
        "### **18.How would you implement a basic logging setup that logs to a file with rotation after 1MB?**\n",
        "**Ans.-**\n"
      ],
      "metadata": {
        "id": "9xQjKVcoM1rq"
      }
    },
    {
      "cell_type": "code",
      "source": [
        "import logging\n",
        "from logging.handlers import RotatingFileHandler\n",
        "\n",
        "# Create a logger\n",
        "logger = logging.getLogger(\"MyLogger\")\n",
        "logger.setLevel(logging.DEBUG)  # Log all levels DEBUG and above\n",
        "\n",
        "# Create a rotating file handler that rotates after 1MB and keeps 3 backups\n",
        "handler = RotatingFileHandler(\n",
        "    \"my_app.log\",\n",
        "    maxBytes=1_000_000,  # 1MB\n",
        "    backupCount=3\n",
        ")\n",
        "\n",
        "# Create a log message format\n",
        "formatter = logging.Formatter('%(asctime)s - %(levelname)s - %(message)s')\n",
        "handler.setFormatter(formatter)\n",
        "\n",
        "# Add the handler to the logger\n",
        "logger.addHandler(handler)\n",
        "\n",
        "# Example logs\n",
        "logger.info(\"This is an info message.\")\n",
        "logger.error(\"This is an error message.\")\n"
      ],
      "metadata": {
        "id": "7J26eq9sNPMW"
      },
      "execution_count": null,
      "outputs": []
    },
    {
      "cell_type": "markdown",
      "source": [
        "### **19.Write a program that handles both IndexError and KeyError using a try-except block**.\n",
        "**Ans.-**"
      ],
      "metadata": {
        "id": "PxCVfTmgNRS6"
      }
    },
    {
      "cell_type": "code",
      "source": [
        "my_list = [10, 20, 30]\n",
        "my_dict = {\"a\": 1, \"b\": 2}\n",
        "\n",
        "try:\n",
        "    # Attempt to access an index that might be out of range\n",
        "    print(my_list[5])\n",
        "\n",
        "    # Attempt to access a dictionary key that might not exist\n",
        "    print(my_dict[\"c\"])\n",
        "\n",
        "except IndexError:\n",
        "    print(\"Error: List index is out of range.\")\n",
        "\n",
        "except KeyError:\n",
        "    print(\"Error: Dictionary key not found.\")\n"
      ],
      "metadata": {
        "id": "p93hYP5QM0FY"
      },
      "execution_count": null,
      "outputs": []
    },
    {
      "cell_type": "markdown",
      "source": [
        "### **20.How would you open a file and read its contents using a context manager in Python?**\n",
        "**Ans.-**"
      ],
      "metadata": {
        "id": "mIEE2uFrNqxU"
      }
    },
    {
      "cell_type": "code",
      "source": [
        "with open(\"example.txt\", \"r\") as file:\n",
        "    content = file.read()\n",
        "    print(content)\n",
        "\n",
        "#Explanation:\n",
        "#with open(...) as file: opens the file and assigns it to file.\n",
        "#The file is automatically closed when the block ends.\n",
        "#file.read() reads the entire contents of the file."
      ],
      "metadata": {
        "id": "SXSwATyDNpO1"
      },
      "execution_count": null,
      "outputs": []
    },
    {
      "cell_type": "markdown",
      "source": [
        "### **21.Write a Python program that reads a file and prints the number of occurrences of a specific word.**\n",
        "**Ans.-**"
      ],
      "metadata": {
        "id": "5fHUYh7ROX5M"
      }
    },
    {
      "cell_type": "code",
      "source": [
        "file_name = \"example.txt\"\n",
        "word_to_count = \"python\"\n",
        "\n",
        "try:\n",
        "    with open(file_name, \"r\") as file:\n",
        "        content = file.read().lower()  # Convert to lowercase for case-insensitive matching\n",
        "        words = content.split()\n",
        "        count = words.count(word_to_count.lower())\n",
        "    print(f\"The word '{word_to_count}' occurs {count} times in the file.\")\n",
        "except FileNotFoundError:\n",
        "    print(f\"Error: The file '{file_name}' does not exist.\")\n",
        "except Exception as e:\n",
        "    print(f\"An error occurred: {e}\")\n"
      ],
      "metadata": {
        "id": "FFYh0p_mOisH"
      },
      "execution_count": null,
      "outputs": []
    },
    {
      "cell_type": "markdown",
      "source": [
        "### **22.How can you check if a file is empty before attempting to read its contents?**\n",
        "**Ans.-**"
      ],
      "metadata": {
        "id": "7hop9EsBOqAJ"
      }
    },
    {
      "cell_type": "code",
      "source": [
        "#Method 1: Using os.path.getsize\n",
        "\n",
        "import os\n",
        "\n",
        "file_path = \"example.txt\"\n",
        "\n",
        "if os.path.exists(file_path) and os.path.getsize(file_path) > 0:\n",
        "    with open(file_path, \"r\") as file:\n",
        "        content = file.read()\n",
        "        print(content)\n",
        "else:\n",
        "    print(\"The file is empty or does not exist.\")\n",
        "\n",
        "#Method 2: Using pathlib.Path.stat().st_size\n",
        "\n",
        "from pathlib import Path\n",
        "\n",
        "file_path = Path(\"example.txt\")\n",
        "\n",
        "if file_path.exists() and file_path.stat().st_size > 0:\n",
        "    with file_path.open(\"r\") as file:\n",
        "        content = file.read()\n",
        "        print(content)\n",
        "else:\n",
        "    print(\"The file is empty or does not exist.\")\n",
        "\n"
      ],
      "metadata": {
        "id": "M1-MH5Q4OpKJ"
      },
      "execution_count": null,
      "outputs": []
    },
    {
      "cell_type": "markdown",
      "source": [
        "### **23.Write a Python program that writes to a log file when an error occurs during file handling**.\n",
        "**Ans.-**"
      ],
      "metadata": {
        "id": "oZgoFQbiPaiJ"
      }
    },
    {
      "cell_type": "code",
      "source": [
        "import logging\n",
        "\n",
        "# Configure logging to write errors to a file\n",
        "logging.basicConfig(\n",
        "    filename='file_errors.log',\n",
        "    level=logging.ERROR,\n",
        "    format='%(asctime)s - %(levelname)s - %(message)s'\n",
        ")\n",
        "\n",
        "file_name = \"non_existent_file.txt\"\n",
        "\n",
        "try:\n",
        "    with open(file_name, \"r\") as file:\n",
        "        content = file.read()\n",
        "        print(content)\n",
        "except Exception as e:\n",
        "    logging.error(f\"Error occurred while handling the file '{file_name}': {e}\")\n",
        "    print(\"An error occurred. Check the log file for details.\")\n"
      ],
      "metadata": {
        "id": "laKys7xKPt6U"
      },
      "execution_count": null,
      "outputs": []
    }
  ]
}